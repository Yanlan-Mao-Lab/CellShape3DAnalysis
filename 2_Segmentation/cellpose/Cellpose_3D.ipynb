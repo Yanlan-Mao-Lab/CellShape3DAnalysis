{
 "cells": [
  {
   "cell_type": "markdown",
   "id": "cd8b50f9",
   "metadata": {},
   "source": [
    "# Headers and initialising"
   ]
  },
  {
   "cell_type": "code",
   "execution_count": 1,
   "id": "a4cf38ea",
   "metadata": {
    "scrolled": true
   },
   "outputs": [
    {
     "name": "stdout",
     "output_type": "stream",
     "text": [
      ">>> GPU activated? YES\n",
      "2022-10-18 09:46:46,053 [INFO] WRITING LOG OUTPUT TO /home/pablo/.cellpose/run.log\n"
     ]
    }
   ],
   "source": [
    "import numpy as np\n",
    "import time, os, sys\n",
    "from urllib.parse import urlparse\n",
    "import skimage.io\n",
    "import matplotlib.pyplot as plt\n",
    "import matplotlib as mpl\n",
    "%matplotlib inline\n",
    "mpl.rcParams['figure.dpi'] = 300\n",
    "import errno\n",
    "from urllib.parse import urlparse\n",
    "from cellpose import core, utils, io, models, metrics, dynamics\n",
    "from glob import glob\n",
    "\n",
    "use_GPU = core.use_gpu()\n",
    "yn = ['NO', 'YES']\n",
    "print(f'>>> GPU activated? {yn[use_GPU]}')\n",
    "\n",
    "# call logger_setup to have output of cellpose written\n",
    "from cellpose.io import logger_setup\n",
    "from cellpose.dynamics import masks_to_flows\n",
    "from cellpose import models\n",
    "logger_setup();"
   ]
  },
  {
   "cell_type": "markdown",
   "id": "06701607",
   "metadata": {},
   "source": [
    "# User variables"
   ]
  },
  {
   "cell_type": "code",
   "execution_count": 2,
   "id": "f74bc66d",
   "metadata": {},
   "outputs": [],
   "source": [
    "channel = [0,0] ## Greyscale, no nuclei\n",
    "files_path = '/media/pablo/d7c61090-024c-469a-930c-f5ada47fb049/PabloVicenteMunuera/CellShape3DAnalysis/2_Segmentation/cellpose/WingDisc_OnlyWounds/'\n",
    "inputDir = [files_path + 'StacksToSegment/']\n",
    "#inputDir = ['/media/pablo/d7c61090-024c-469a-930c-f5ada47fb049/PabloVicenteMunuera/CellShape3DAnalysis/Datasets/ToProcess/RiciBarrientos/NubG4-UASmyrGFP_Control',\n",
    "#            files_path + 'StacksToSegment/']\n",
    "segmentedOtherDir = [files_path + 'MasksSegmentedWithOtherSoftware/'];\n",
    "\n",
    "use_GPU = 1;\n",
    "initial_model = 'cyto2'"
   ]
  },
  {
   "cell_type": "markdown",
   "id": "dff778ec",
   "metadata": {},
   "source": [
    "# Transform 3D data to 2D for users to correct"
   ]
  },
  {
   "cell_type": "markdown",
   "id": "38171a5a",
   "metadata": {},
   "source": [
    "## Stack to image sequence"
   ]
  },
  {
   "cell_type": "code",
   "execution_count": 4,
   "id": "5e06a6d4",
   "metadata": {},
   "outputs": [
    {
     "name": "stdout",
     "output_type": "stream",
     "text": [
      "Dir exists\n",
      "/media/pablo/d7c61090-024c-469a-930c-f5ada47fb049/PabloVicenteMunuera/CellShape3DAnalysis/2_Segmentation/cellpose/WingDisc_OnlyWounds/StacksToSegment/\n",
      "2022-10-18 09:52:52,107 [INFO] reading tiff with 100 planes\n"
     ]
    },
    {
     "name": "stderr",
     "output_type": "stream",
     "text": [
      "100%|████████████████████████████████████████| 100/100 [00:00<00:00, 844.56it/s]"
     ]
    },
    {
     "name": "stdout",
     "output_type": "stream",
     "text": [
      "2022-10-18 09:52:52,296 [INFO] reading tiff with 100 planes\n"
     ]
    },
    {
     "name": "stderr",
     "output_type": "stream",
     "text": [
      "\n",
      "100%|████████████████████████████████████████| 100/100 [00:00<00:00, 955.62it/s]\n"
     ]
    },
    {
     "name": "stdout",
     "output_type": "stream",
     "text": [
      "2022-10-18 09:52:52,507 [INFO] reading tiff with 99 planes\n"
     ]
    },
    {
     "name": "stderr",
     "output_type": "stream",
     "text": [
      "100%|██████████████████████████████████████████| 99/99 [00:00<00:00, 781.60it/s]\n"
     ]
    },
    {
     "name": "stdout",
     "output_type": "stream",
     "text": [
      "2022-10-18 09:52:52,723 [INFO] reading tiff with 99 planes\n"
     ]
    },
    {
     "name": "stderr",
     "output_type": "stream",
     "text": [
      "100%|██████████████████████████████████████████| 99/99 [00:00<00:00, 726.37it/s]"
     ]
    },
    {
     "name": "stdout",
     "output_type": "stream",
     "text": [
      "2022-10-18 09:52:52,919 [INFO] reading tiff with 99 planes\n"
     ]
    },
    {
     "name": "stderr",
     "output_type": "stream",
     "text": [
      "\n",
      "100%|██████████████████████████████████████████| 99/99 [00:00<00:00, 688.96it/s]"
     ]
    },
    {
     "name": "stdout",
     "output_type": "stream",
     "text": [
      "2022-10-18 09:52:53,124 [INFO] reading tiff with 99 planes\n"
     ]
    },
    {
     "name": "stderr",
     "output_type": "stream",
     "text": [
      "\n",
      "100%|██████████████████████████████████████████| 99/99 [00:00<00:00, 729.24it/s]\n"
     ]
    },
    {
     "name": "stdout",
     "output_type": "stream",
     "text": [
      "2022-10-18 09:52:53,336 [INFO] reading tiff with 100 planes\n"
     ]
    },
    {
     "name": "stderr",
     "output_type": "stream",
     "text": [
      "100%|████████████████████████████████████████| 100/100 [00:00<00:00, 829.37it/s]\n"
     ]
    },
    {
     "name": "stdout",
     "output_type": "stream",
     "text": [
      "2022-10-18 09:52:53,527 [INFO] reading tiff with 100 planes\n"
     ]
    },
    {
     "name": "stderr",
     "output_type": "stream",
     "text": [
      "100%|████████████████████████████████████████| 100/100 [00:00<00:00, 839.40it/s]\n"
     ]
    },
    {
     "name": "stdout",
     "output_type": "stream",
     "text": [
      "2022-10-18 09:52:53,716 [INFO] reading tiff with 99 planes\n"
     ]
    },
    {
     "name": "stderr",
     "output_type": "stream",
     "text": [
      "100%|██████████████████████████████████████████| 99/99 [00:00<00:00, 833.03it/s]\n"
     ]
    },
    {
     "name": "stdout",
     "output_type": "stream",
     "text": [
      "2022-10-18 09:52:53,920 [INFO] reading tiff with 100 planes\n"
     ]
    },
    {
     "name": "stderr",
     "output_type": "stream",
     "text": [
      "100%|████████████████████████████████████████| 100/100 [00:00<00:00, 779.15it/s]\n"
     ]
    },
    {
     "name": "stdout",
     "output_type": "stream",
     "text": [
      "2022-10-18 09:52:54,130 [INFO] reading tiff with 99 planes\n"
     ]
    },
    {
     "name": "stderr",
     "output_type": "stream",
     "text": [
      "100%|██████████████████████████████████████████| 99/99 [00:00<00:00, 940.05it/s]\n"
     ]
    },
    {
     "name": "stdout",
     "output_type": "stream",
     "text": [
      "2022-10-18 09:52:54,283 [INFO] reading tiff with 100 planes\n"
     ]
    },
    {
     "name": "stderr",
     "output_type": "stream",
     "text": [
      "100%|████████████████████████████████████████| 100/100 [00:00<00:00, 945.31it/s]\n"
     ]
    },
    {
     "name": "stdout",
     "output_type": "stream",
     "text": [
      "2022-10-18 09:52:54,455 [INFO] reading tiff with 99 planes\n"
     ]
    },
    {
     "name": "stderr",
     "output_type": "stream",
     "text": [
      "100%|██████████████████████████████████████████| 99/99 [00:00<00:00, 827.48it/s]\n"
     ]
    },
    {
     "name": "stdout",
     "output_type": "stream",
     "text": [
      "2022-10-18 09:52:54,636 [INFO] reading tiff with 99 planes\n"
     ]
    },
    {
     "name": "stderr",
     "output_type": "stream",
     "text": [
      "100%|██████████████████████████████████████████| 99/99 [00:00<00:00, 725.95it/s]\n"
     ]
    },
    {
     "name": "stdout",
     "output_type": "stream",
     "text": [
      "2022-10-18 09:52:54,847 [INFO] reading tiff with 100 planes\n"
     ]
    },
    {
     "name": "stderr",
     "output_type": "stream",
     "text": [
      "100%|████████████████████████████████████████| 100/100 [00:00<00:00, 846.47it/s]\n"
     ]
    },
    {
     "name": "stdout",
     "output_type": "stream",
     "text": [
      "2022-10-18 09:52:55,025 [INFO] reading tiff with 100 planes\n"
     ]
    },
    {
     "name": "stderr",
     "output_type": "stream",
     "text": [
      "100%|████████████████████████████████████████| 100/100 [00:00<00:00, 832.10it/s]\n"
     ]
    },
    {
     "name": "stdout",
     "output_type": "stream",
     "text": [
      "2022-10-18 09:52:55,210 [INFO] reading tiff with 99 planes\n"
     ]
    },
    {
     "name": "stderr",
     "output_type": "stream",
     "text": [
      "100%|██████████████████████████████████████████| 99/99 [00:00<00:00, 890.55it/s]\n"
     ]
    },
    {
     "name": "stdout",
     "output_type": "stream",
     "text": [
      "2022-10-18 09:52:55,378 [INFO] reading tiff with 99 planes\n"
     ]
    },
    {
     "name": "stderr",
     "output_type": "stream",
     "text": [
      "100%|██████████████████████████████████████████| 99/99 [00:00<00:00, 771.34it/s]\n"
     ]
    },
    {
     "name": "stdout",
     "output_type": "stream",
     "text": [
      "2022-10-18 09:52:55,562 [INFO] reading tiff with 100 planes\n"
     ]
    },
    {
     "name": "stderr",
     "output_type": "stream",
     "text": [
      "100%|████████████████████████████████████████| 100/100 [00:00<00:00, 947.78it/s]\n"
     ]
    },
    {
     "name": "stdout",
     "output_type": "stream",
     "text": [
      "2022-10-18 09:52:55,721 [INFO] reading tiff with 100 planes\n"
     ]
    },
    {
     "name": "stderr",
     "output_type": "stream",
     "text": [
      "100%|████████████████████████████████████████| 100/100 [00:00<00:00, 936.77it/s]\n"
     ]
    },
    {
     "name": "stdout",
     "output_type": "stream",
     "text": [
      "2022-10-18 09:52:55,920 [INFO] reading tiff with 100 planes\n"
     ]
    },
    {
     "name": "stderr",
     "output_type": "stream",
     "text": [
      "100%|████████████████████████████████████████| 100/100 [00:00<00:00, 838.44it/s]"
     ]
    },
    {
     "name": "stdout",
     "output_type": "stream",
     "text": [
      "2022-10-18 09:52:56,093 [INFO] reading tiff with 99 planes\n"
     ]
    },
    {
     "name": "stderr",
     "output_type": "stream",
     "text": [
      "\n",
      "100%|██████████████████████████████████████████| 99/99 [00:00<00:00, 946.85it/s]\n"
     ]
    }
   ],
   "source": [
    "try:\n",
    "    os.mkdir(files_path + 'ImageSequence2D/')\n",
    "except OSError as exc:\n",
    "    print('Dir exists')\n",
    "\n",
    "for currentDir in inputDir:\n",
    "    print(currentDir)\n",
    "    for root, subdirs, files in os.walk(currentDir):\n",
    "        for filename in files:\n",
    "            if filename.endswith('.tif'):\n",
    "                img = io.imread(root + '/' + filename)\n",
    "                for numZ in range(0, len(img)):\n",
    "                    io.imsave(files_path + 'ImageSequence2D/' + filename.replace('.tif', '') + '_' + \"{:03d}\".format(numZ) + '.tif', img[numZ, :, :])"
   ]
  },
  {
   "cell_type": "code",
   "execution_count": 45,
   "id": "2ed94356",
   "metadata": {},
   "outputs": [
    {
     "name": "stdout",
     "output_type": "stream",
     "text": [
      "/media/pablo/d7c61090-024c-469a-930c-f5ada47fb049/PabloVicenteMunuera/CellShape3DAnalysis/2_Segmentation/cellpose/WingDisc_OnlyWounds/MasksSegmentedWithOtherSoftware/\n",
      "2022-10-18 14:02:27,372 [INFO] reading tiff with 99 planes\n"
     ]
    },
    {
     "name": "stderr",
     "output_type": "stream",
     "text": [
      "100%|███████████████████████████████████████████| 99/99 [00:01<00:00, 87.93it/s]"
     ]
    },
    {
     "name": "stdout",
     "output_type": "stream",
     "text": [
      "2022-10-18 14:02:28,518 [INFO] reading tiff with 99 planes\n"
     ]
    },
    {
     "name": "stderr",
     "output_type": "stream",
     "text": [
      "\n",
      "100%|███████████████████████████████████████████| 99/99 [00:01<00:00, 88.51it/s]"
     ]
    },
    {
     "name": "stdout",
     "output_type": "stream",
     "text": [
      "2022-10-18 14:02:29,667 [INFO] reading tiff with 99 planes\n"
     ]
    },
    {
     "name": "stderr",
     "output_type": "stream",
     "text": [
      "\n",
      "100%|███████████████████████████████████████████| 99/99 [00:01<00:00, 84.18it/s]\n"
     ]
    }
   ],
   "source": [
    "allFileNames = list()\n",
    "for currentDir in segmentedOtherDir:\n",
    "    print(currentDir)\n",
    "    for root, subdirs, files in os.walk(currentDir):\n",
    "        for filename in files:\n",
    "            if filename.endswith('.tif'):\n",
    "                currentFileName = root + '/' + filename;\n",
    "                #imgs_filename = currentFileName.replace('MasksSegmentedWithOtherSoftware', 'StacksToSegment').replace('_masks', '')\n",
    "                #img = io.imread(imgs_filename);\n",
    "                mask = io.imread(currentFileName)\n",
    "                \n",
    "                for numZ in range(0, len(img)):\n",
    "                    currentZFileName = filename.replace('.tif', '').replace('_masks', '') + '_' + \"{:03d}\".format(numZ) + '_masks.tif'\n",
    "                    #io.imsave(files_path + 'ImageSequence2D/' + currentZFileName, mask)\n",
    "                    allFileNames.append(currentZFileName)"
   ]
  },
  {
   "cell_type": "markdown",
   "id": "aeca3e91",
   "metadata": {},
   "source": [
    "# Train a new model with your data"
   ]
  },
  {
   "cell_type": "markdown",
   "id": "cd34c65b",
   "metadata": {},
   "source": [
    "## Divide between train and test data"
   ]
  },
  {
   "cell_type": "code",
   "execution_count": 50,
   "id": "7c666aef",
   "metadata": {},
   "outputs": [],
   "source": [
    "# import modules\n",
    "import pandas as pd\n",
    "from sklearn.linear_model import LinearRegression\n",
    "from sklearn.model_selection import train_test_split\n",
    "\n",
    "# split the dataset\n",
    "train_data, test_data = train_test_split(allFileNames, test_size=0.1, random_state=0)\n",
    "\n"
   ]
  },
  {
   "cell_type": "markdown",
   "id": "2d077b3c",
   "metadata": {},
   "source": [
    "## Retrain the new model"
   ]
  },
  {
   "cell_type": "code",
   "execution_count": null,
   "id": "04954df1",
   "metadata": {},
   "outputs": [],
   "source": [
    "model_path = files_path + '/models/'\n",
    "\n",
    "# DEFINE CELLPOSE MODEL (without size model)\n",
    "model = models.CellposeModel(gpu=use_GPU, model_type=initial_model)\n",
    "\n",
    "# set channels\n",
    "channels = [chan, chan2]\n",
    "\n",
    "# get files\n",
    "output = io.load_train_test_data(train_dir, test_dir, mask_filter='_seg.npy')\n",
    "train_data, train_labels, _, test_data, test_labels, _ = output\n",
    "\n",
    "new_model_path = model.train(train_data, train_labels, \n",
    "                              test_data=test_data,\n",
    "                              test_labels=test_labels,\n",
    "                              channels=channels, \n",
    "                              save_path=train_dir, \n",
    "                              n_epochs=n_epochs,\n",
    "                              learning_rate=learning_rate, \n",
    "                              weight_decay=weight_decay, \n",
    "                              nimg_per_epoch=8,\n",
    "                              model_name=model_name)\n",
    "\n",
    "# diameter of labels in training images\n",
    "diam_labels = model.diam_labels.copy()"
   ]
  },
  {
   "cell_type": "markdown",
   "id": "325e01f2",
   "metadata": {},
   "source": [
    "# Using the new model created to predict 3D data"
   ]
  },
  {
   "cell_type": "code",
   "execution_count": null,
   "id": "581e7315",
   "metadata": {},
   "outputs": [],
   "source": [
    "# gets image files in dir (ignoring image files ending in _masks)\n",
    "files = io.get_image_files(files_path, '_masks')\n",
    "print(files)\n",
    "images = [io.imread(f) for f in files]\n",
    "\n",
    "# declare model\n",
    "model = models.CellposeModel(gpu=True, \n",
    "                             pretrained_model=model_path)\n",
    "\n",
    "# use model diameter if user diameter is 0\n",
    "diameter = model.diam_labels if diameter==0 else diameter\n",
    "\n",
    "# * with 3D you have to set the diameter manually (no auto detect) *\n",
    "\n",
    "### TWO WAYS TO RUN CELLPOSE IN 3D\n",
    "\n",
    "# 1. computes flows from 2D slices and combines into 3D flows to create masks\n",
    "print('running cellpose 2D slice flows => masks')\n",
    "masks, flows, styles, _ = model.eval(images, diameter=30, do_3D=True, \n",
    "                                     channels=[chan, chan2], \n",
    "                                     flow_threshold=flow_threshold,\n",
    "                                     cellprob_threshold=cellprob_threshold)\n",
    "\n",
    "# 2. computes masks in 2D slices and stitches masks in 3D based on mask overlap\n",
    "print('running cellpose 2D + stitching masks')\n",
    "masks_stitched, flows_stitched, styles_stitched, _ = model.eval(images, channels=[chan, chan2], diameter=diameter, do_3D=False, stitch_threshold=0.5)"
   ]
  },
  {
   "cell_type": "code",
   "execution_count": null,
   "id": "f9ae71ab",
   "metadata": {},
   "outputs": [],
   "source": [
    "# DISPLAY RESULTS 3D flows => masks\n",
    "plt.figure(figsize=(15,3))\n",
    "for i,iplane in enumerate(np.arange(0,75,10,int)):\n",
    "  img0 = plot.image_to_rgb(img_3D[iplane, [1,0]].copy(), channels=[2,3])\n",
    "  plt.subplot(1,8,i+1)\n",
    "  outlines = utils.masks_to_outlines(masks[iplane])\n",
    "  outX, outY = np.nonzero(outlines)\n",
    "  imgout= img0.copy()\n",
    "  imgout[outX, outY] = np.array([255,75,75])\n",
    "  plt.imshow(imgout)\n",
    "  plt.title('iplane = %d'%iplane)"
   ]
  },
  {
   "cell_type": "code",
   "execution_count": null,
   "id": "3a45d03b",
   "metadata": {},
   "outputs": [],
   "source": [
    "# DISPLAY RESULTS stitching\n",
    "plt.figure(figsize=(15,3))\n",
    "for i,iplane in enumerate(np.arange(0,75,10,int)):\n",
    "  img0 = plot.image_to_rgb(img_3D[iplane, [1,0]].copy(), channels=[2,3])\n",
    "  plt.subplot(1,8,i+1)\n",
    "  outlines = utils.masks_to_outlines(masks_stitched[iplane])\n",
    "  outX, outY = np.nonzero(outlines)\n",
    "  imgout= img0.copy()\n",
    "  imgout[outX, outY] = np.array([255,75,75])\n",
    "  plt.imshow(imgout)\n",
    "  plt.title('iplane = %d'%iplane)"
   ]
  },
  {
   "cell_type": "code",
   "execution_count": null,
   "id": "5cb7fbc9",
   "metadata": {},
   "outputs": [],
   "source": [
    "from cellpose import io\n",
    "\n",
    "io.masks_flows_to_seg(images, \n",
    "                      masks, \n",
    "                      flows, \n",
    "                      diameter*np.ones(len(masks)), \n",
    "                      files, \n",
    "                      channels)"
   ]
  }
 ],
 "metadata": {
  "kernelspec": {
   "display_name": "Python 3 (ipykernel)",
   "language": "python",
   "name": "python3"
  },
  "language_info": {
   "codemirror_mode": {
    "name": "ipython",
    "version": 3
   },
   "file_extension": ".py",
   "mimetype": "text/x-python",
   "name": "python",
   "nbconvert_exporter": "python",
   "pygments_lexer": "ipython3",
   "version": "3.8.13"
  }
 },
 "nbformat": 4,
 "nbformat_minor": 5
}
